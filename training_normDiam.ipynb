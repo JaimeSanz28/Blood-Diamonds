{
 "cells": [
  {
   "cell_type": "markdown",
   "metadata": {},
   "source": [
    "# Training the normalized Dataset  🏃🏻"
   ]
  },
  {
   "cell_type": "code",
   "execution_count": 12,
   "metadata": {},
   "outputs": [],
   "source": [
    "import pandas as pd\n",
    "import numpy as np\n",
    "from sklearn.model_selection import train_test_split\n",
    "from sklearn.ensemble import GradientBoostingRegressor, ExtraTreesRegressor\n",
    "from sklearn.ensemble import RandomForestRegressor, AdaBoostRegressor\n",
    "from sklearn.tree import DecisionTreeRegressor\n",
    "import math\n",
    "from sklearn.metrics import mean_squared_error\n",
    "from sklearn.model_selection import GridSearchCV\n",
    "from sklearn.experimental import enable_hist_gradient_boosting  \n",
    "from sklearn.ensemble import HistGradientBoostingRegressor\n",
    "import matplotlib.pyplot as plt"
   ]
  },
  {
   "cell_type": "code",
   "execution_count": 4,
   "metadata": {},
   "outputs": [
    {
     "data": {
      "text/html": [
       "<div>\n",
       "<style scoped>\n",
       "    .dataframe tbody tr th:only-of-type {\n",
       "        vertical-align: middle;\n",
       "    }\n",
       "\n",
       "    .dataframe tbody tr th {\n",
       "        vertical-align: top;\n",
       "    }\n",
       "\n",
       "    .dataframe thead th {\n",
       "        text-align: right;\n",
       "    }\n",
       "</style>\n",
       "<table border=\"1\" class=\"dataframe\">\n",
       "  <thead>\n",
       "    <tr style=\"text-align: right;\">\n",
       "      <th></th>\n",
       "      <th>carat</th>\n",
       "      <th>cut</th>\n",
       "      <th>color</th>\n",
       "      <th>clarity</th>\n",
       "      <th>depth</th>\n",
       "      <th>table</th>\n",
       "      <th>x</th>\n",
       "      <th>y</th>\n",
       "      <th>z</th>\n",
       "      <th>price</th>\n",
       "    </tr>\n",
       "  </thead>\n",
       "  <tbody>\n",
       "    <tr>\n",
       "      <th>0</th>\n",
       "      <td>0.023256</td>\n",
       "      <td>0.50</td>\n",
       "      <td>0.000000</td>\n",
       "      <td>0.000000</td>\n",
       "      <td>0.550000</td>\n",
       "      <td>0.250000</td>\n",
       "      <td>0.419355</td>\n",
       "      <td>0.073175</td>\n",
       "      <td>0.084906</td>\n",
       "      <td>0.015088</td>\n",
       "    </tr>\n",
       "    <tr>\n",
       "      <th>1</th>\n",
       "      <td>0.032558</td>\n",
       "      <td>0.75</td>\n",
       "      <td>0.166667</td>\n",
       "      <td>0.142857</td>\n",
       "      <td>0.544444</td>\n",
       "      <td>0.230769</td>\n",
       "      <td>0.435973</td>\n",
       "      <td>0.076231</td>\n",
       "      <td>0.088050</td>\n",
       "      <td>0.012925</td>\n",
       "    </tr>\n",
       "    <tr>\n",
       "      <th>2</th>\n",
       "      <td>0.046512</td>\n",
       "      <td>0.50</td>\n",
       "      <td>0.333333</td>\n",
       "      <td>0.142857</td>\n",
       "      <td>0.480556</td>\n",
       "      <td>0.365385</td>\n",
       "      <td>0.459433</td>\n",
       "      <td>0.080645</td>\n",
       "      <td>0.089623</td>\n",
       "      <td>0.021307</td>\n",
       "    </tr>\n",
       "    <tr>\n",
       "      <th>3</th>\n",
       "      <td>0.046512</td>\n",
       "      <td>1.00</td>\n",
       "      <td>0.500000</td>\n",
       "      <td>0.285714</td>\n",
       "      <td>0.522222</td>\n",
       "      <td>0.311538</td>\n",
       "      <td>0.461388</td>\n",
       "      <td>0.080475</td>\n",
       "      <td>0.091824</td>\n",
       "      <td>0.025254</td>\n",
       "    </tr>\n",
       "    <tr>\n",
       "      <th>4</th>\n",
       "      <td>0.162791</td>\n",
       "      <td>0.50</td>\n",
       "      <td>0.333333</td>\n",
       "      <td>0.142857</td>\n",
       "      <td>0.500000</td>\n",
       "      <td>0.384615</td>\n",
       "      <td>0.596285</td>\n",
       "      <td>0.104075</td>\n",
       "      <td>0.117296</td>\n",
       "      <td>0.219284</td>\n",
       "    </tr>\n",
       "  </tbody>\n",
       "</table>\n",
       "</div>"
      ],
      "text/plain": [
       "      carat   cut     color   clarity     depth     table         x         y  \\\n",
       "0  0.023256  0.50  0.000000  0.000000  0.550000  0.250000  0.419355  0.073175   \n",
       "1  0.032558  0.75  0.166667  0.142857  0.544444  0.230769  0.435973  0.076231   \n",
       "2  0.046512  0.50  0.333333  0.142857  0.480556  0.365385  0.459433  0.080645   \n",
       "3  0.046512  1.00  0.500000  0.285714  0.522222  0.311538  0.461388  0.080475   \n",
       "4  0.162791  0.50  0.333333  0.142857  0.500000  0.384615  0.596285  0.104075   \n",
       "\n",
       "          z     price  \n",
       "0  0.084906  0.015088  \n",
       "1  0.088050  0.012925  \n",
       "2  0.089623  0.021307  \n",
       "3  0.091824  0.025254  \n",
       "4  0.117296  0.219284  "
      ]
     },
     "execution_count": 4,
     "metadata": {},
     "output_type": "execute_result"
    }
   ],
   "source": [
    "train = pd.read_csv('./output/diamond_train_norm.csv', index_col=0)\n",
    "train.head()"
   ]
  },
  {
   "cell_type": "code",
   "execution_count": 5,
   "metadata": {},
   "outputs": [
    {
     "data": {
      "text/plain": [
       "(40455, 10)"
      ]
     },
     "execution_count": 5,
     "metadata": {},
     "output_type": "execute_result"
    }
   ],
   "source": [
    "train.shape"
   ]
  },
  {
   "cell_type": "code",
   "execution_count": 6,
   "metadata": {},
   "outputs": [
    {
     "data": {
      "text/html": [
       "<div>\n",
       "<style scoped>\n",
       "    .dataframe tbody tr th:only-of-type {\n",
       "        vertical-align: middle;\n",
       "    }\n",
       "\n",
       "    .dataframe tbody tr th {\n",
       "        vertical-align: top;\n",
       "    }\n",
       "\n",
       "    .dataframe thead th {\n",
       "        text-align: right;\n",
       "    }\n",
       "</style>\n",
       "<table border=\"1\" class=\"dataframe\">\n",
       "  <thead>\n",
       "    <tr style=\"text-align: right;\">\n",
       "      <th></th>\n",
       "      <th>carat</th>\n",
       "      <th>cut</th>\n",
       "      <th>color</th>\n",
       "      <th>clarity</th>\n",
       "      <th>depth</th>\n",
       "      <th>table</th>\n",
       "      <th>x</th>\n",
       "      <th>y</th>\n",
       "      <th>z</th>\n",
       "    </tr>\n",
       "  </thead>\n",
       "  <tbody>\n",
       "    <tr>\n",
       "      <th>0</th>\n",
       "      <td>0.449064</td>\n",
       "      <td>0.75</td>\n",
       "      <td>1.0</td>\n",
       "      <td>0.428571</td>\n",
       "      <td>0.567568</td>\n",
       "      <td>0.107143</td>\n",
       "      <td>0.808194</td>\n",
       "      <td>0.813093</td>\n",
       "      <td>0.750716</td>\n",
       "    </tr>\n",
       "    <tr>\n",
       "      <th>1</th>\n",
       "      <td>0.382536</td>\n",
       "      <td>0.75</td>\n",
       "      <td>0.5</td>\n",
       "      <td>0.428571</td>\n",
       "      <td>0.608108</td>\n",
       "      <td>0.178571</td>\n",
       "      <td>0.761639</td>\n",
       "      <td>0.780835</td>\n",
       "      <td>0.729226</td>\n",
       "    </tr>\n",
       "    <tr>\n",
       "      <th>2</th>\n",
       "      <td>0.064449</td>\n",
       "      <td>0.75</td>\n",
       "      <td>1.0</td>\n",
       "      <td>0.142857</td>\n",
       "      <td>0.597973</td>\n",
       "      <td>0.107143</td>\n",
       "      <td>0.482309</td>\n",
       "      <td>0.492410</td>\n",
       "      <td>0.458453</td>\n",
       "    </tr>\n",
       "    <tr>\n",
       "      <th>3</th>\n",
       "      <td>0.020790</td>\n",
       "      <td>0.75</td>\n",
       "      <td>1.0</td>\n",
       "      <td>0.142857</td>\n",
       "      <td>0.584459</td>\n",
       "      <td>0.178571</td>\n",
       "      <td>0.402235</td>\n",
       "      <td>0.410816</td>\n",
       "      <td>0.379656</td>\n",
       "    </tr>\n",
       "    <tr>\n",
       "      <th>4</th>\n",
       "      <td>0.158004</td>\n",
       "      <td>0.00</td>\n",
       "      <td>0.5</td>\n",
       "      <td>0.000000</td>\n",
       "      <td>0.837838</td>\n",
       "      <td>0.178571</td>\n",
       "      <td>0.568901</td>\n",
       "      <td>0.567362</td>\n",
       "      <td>0.595989</td>\n",
       "    </tr>\n",
       "  </tbody>\n",
       "</table>\n",
       "</div>"
      ],
      "text/plain": [
       "      carat   cut  color   clarity     depth     table         x         y  \\\n",
       "0  0.449064  0.75    1.0  0.428571  0.567568  0.107143  0.808194  0.813093   \n",
       "1  0.382536  0.75    0.5  0.428571  0.608108  0.178571  0.761639  0.780835   \n",
       "2  0.064449  0.75    1.0  0.142857  0.597973  0.107143  0.482309  0.492410   \n",
       "3  0.020790  0.75    1.0  0.142857  0.584459  0.178571  0.402235  0.410816   \n",
       "4  0.158004  0.00    0.5  0.000000  0.837838  0.178571  0.568901  0.567362   \n",
       "\n",
       "          z  \n",
       "0  0.750716  \n",
       "1  0.729226  \n",
       "2  0.458453  \n",
       "3  0.379656  \n",
       "4  0.595989  "
      ]
     },
     "execution_count": 6,
     "metadata": {},
     "output_type": "execute_result"
    }
   ],
   "source": [
    "test = pd.read_csv('./output/diamond_test_norm.csv', index_col=0)\n",
    "test.head()"
   ]
  },
  {
   "cell_type": "code",
   "execution_count": 7,
   "metadata": {},
   "outputs": [
    {
     "data": {
      "text/plain": [
       "(13485, 9)"
      ]
     },
     "execution_count": 7,
     "metadata": {},
     "output_type": "execute_result"
    }
   ],
   "source": [
    "test.shape"
   ]
  },
  {
   "cell_type": "markdown",
   "metadata": {},
   "source": [
    "-------"
   ]
  },
  {
   "cell_type": "markdown",
   "metadata": {},
   "source": [
    "--------"
   ]
  },
  {
   "cell_type": "markdown",
   "metadata": {},
   "source": [
    "## Checking out the RMSE of each model"
   ]
  },
  {
   "cell_type": "code",
   "execution_count": 9,
   "metadata": {},
   "outputs": [],
   "source": [
    "X = train.drop(columns=[\"price\"])\n",
    "y = train[\"price\"]\n",
    "\n",
    "X_train, X_test, y_train, y_test = train_test_split(X, y, test_size=0.2)"
   ]
  },
  {
   "cell_type": "code",
   "execution_count": 10,
   "metadata": {},
   "outputs": [],
   "source": [
    "models = {\n",
    "    \"forest200\": RandomForestRegressor(n_estimators=200),\n",
    "    \"forest400\": RandomForestRegressor(n_estimators=400),\n",
    "    \"boosting_950\": GradientBoostingRegressor(n_estimators=950),\n",
    "    \"boosting_1050\": GradientBoostingRegressor(n_estimators=1050),\n",
    "    \"extra_100\":ExtraTreesRegressor(),\n",
    "    \"extra_300\":ExtraTreesRegressor(n_estimators=300),\n",
    "    \"extra_700\":ExtraTreesRegressor(n_estimators=700),\n",
    "    \"hist\": HistGradientBoostingRegressor() \n",
    "}"
   ]
  },
  {
   "cell_type": "code",
   "execution_count": 11,
   "metadata": {},
   "outputs": [
    {
     "name": "stdout",
     "output_type": "stream",
     "text": [
      "Starting training\n",
      "Training forest200...\n",
      "Training complete\n",
      "Starting training\n",
      "Training forest400...\n",
      "Training complete\n",
      "Starting training\n",
      "Training boosting_950...\n",
      "Training complete\n",
      "Starting training\n",
      "Training boosting_1050...\n",
      "Training complete\n",
      "Starting training\n",
      "Training extra_100...\n",
      "Training complete\n",
      "Starting training\n",
      "Training extra_300...\n",
      "Training complete\n",
      "Starting training\n",
      "Training extra_700...\n",
      "Training complete\n",
      "Starting training\n",
      "Training hist...\n",
      "Training complete\n"
     ]
    }
   ],
   "source": [
    "for name, model  in models.items():\n",
    "    print(f\"Starting training\")\n",
    "    print(f\"Training {name}...\")\n",
    "    model.fit(X_train, y_train)\n",
    "    print(f\"Training complete\")"
   ]
  },
  {
   "cell_type": "code",
   "execution_count": 12,
   "metadata": {},
   "outputs": [
    {
     "name": "stdout",
     "output_type": "stream",
     "text": [
      "Evaluating model forest200\n",
      "\t RMSE: 0.0321\n",
      "Evaluating model forest400\n",
      "\t RMSE: 0.032\n",
      "Evaluating model boosting_950\n",
      "\t RMSE: 0.0339\n",
      "Evaluating model boosting_1050\n",
      "\t RMSE: 0.0336\n",
      "Evaluating model extra_100\n",
      "\t RMSE: 0.0315\n",
      "Evaluating model extra_300\n",
      "\t RMSE: 0.0313\n",
      "Evaluating model extra_700\n",
      "\t RMSE: 0.0314\n",
      "Evaluating model hist\n",
      "\t RMSE: 0.0316\n"
     ]
    }
   ],
   "source": [
    "printMetric = lambda label,value:print(f\"\\t {label}: {round(value,4)}\")\n",
    "\n",
    "for name,m in models.items():\n",
    "    y_pred = m.predict(X_test)\n",
    "    print(f\"Evaluating model {name}\")\n",
    "    printMetric(\"RMSE\",math.sqrt(mean_squared_error(y_test, y_pred)))"
   ]
  },
  {
   "cell_type": "markdown",
   "metadata": {},
   "source": [
    "------"
   ]
  },
  {
   "cell_type": "markdown",
   "metadata": {},
   "source": [
    "-----"
   ]
  },
  {
   "cell_type": "markdown",
   "metadata": {},
   "source": [
    "### Pred N5 w/ Extra300 normalized "
   ]
  },
  {
   "cell_type": "code",
   "execution_count": 8,
   "metadata": {},
   "outputs": [],
   "source": [
    "X = train.drop(columns=[\"price\"])\n",
    "y = train[\"price\"]\n",
    "\n",
    "X_train, X_test, y_train, y_test = train_test_split(X, y, test_size=0.2)"
   ]
  },
  {
   "cell_type": "code",
   "execution_count": 9,
   "metadata": {},
   "outputs": [],
   "source": [
    "model = ExtraTreesRegressor(n_estimators=300)\n",
    "fitted_model = model.fit(X, y)"
   ]
  },
  {
   "cell_type": "code",
   "execution_count": 15,
   "metadata": {},
   "outputs": [
    {
     "data": {
      "text/plain": [
       "array([0.79246467, 0.63241564, 0.1114107 , ..., 0.22838723, 0.10056547,\n",
       "       0.1978369 ])"
      ]
     },
     "execution_count": 15,
     "metadata": {},
     "output_type": "execute_result"
    }
   ],
   "source": [
    "y_pred_final = fitted_model.predict(test)\n",
    "y_pred_final"
   ]
  },
  {
   "cell_type": "code",
   "execution_count": 16,
   "metadata": {},
   "outputs": [
    {
     "data": {
      "text/html": [
       "<div>\n",
       "<style scoped>\n",
       "    .dataframe tbody tr th:only-of-type {\n",
       "        vertical-align: middle;\n",
       "    }\n",
       "\n",
       "    .dataframe tbody tr th {\n",
       "        vertical-align: top;\n",
       "    }\n",
       "\n",
       "    .dataframe thead th {\n",
       "        text-align: right;\n",
       "    }\n",
       "</style>\n",
       "<table border=\"1\" class=\"dataframe\">\n",
       "  <thead>\n",
       "    <tr style=\"text-align: right;\">\n",
       "      <th></th>\n",
       "      <th>id</th>\n",
       "      <th>price</th>\n",
       "    </tr>\n",
       "  </thead>\n",
       "  <tbody>\n",
       "    <tr>\n",
       "      <th>0</th>\n",
       "      <td>0</td>\n",
       "      <td>0.792465</td>\n",
       "    </tr>\n",
       "    <tr>\n",
       "      <th>1</th>\n",
       "      <td>1</td>\n",
       "      <td>0.632416</td>\n",
       "    </tr>\n",
       "    <tr>\n",
       "      <th>2</th>\n",
       "      <td>2</td>\n",
       "      <td>0.111411</td>\n",
       "    </tr>\n",
       "    <tr>\n",
       "      <th>3</th>\n",
       "      <td>3</td>\n",
       "      <td>0.091991</td>\n",
       "    </tr>\n",
       "    <tr>\n",
       "      <th>4</th>\n",
       "      <td>4</td>\n",
       "      <td>0.266028</td>\n",
       "    </tr>\n",
       "  </tbody>\n",
       "</table>\n",
       "</div>"
      ],
      "text/plain": [
       "   id     price\n",
       "0   0  0.792465\n",
       "1   1  0.632416\n",
       "2   2  0.111411\n",
       "3   3  0.091991\n",
       "4   4  0.266028"
      ]
     },
     "execution_count": 16,
     "metadata": {},
     "output_type": "execute_result"
    }
   ],
   "source": [
    "pred = pd.DataFrame(y_pred_final).reset_index()\n",
    "pred = pred.rename(columns={\"index\": \"id\", 0: \"price\"})\n",
    "pred.head()"
   ]
  },
  {
   "cell_type": "code",
   "execution_count": 17,
   "metadata": {},
   "outputs": [
    {
     "data": {
      "text/plain": [
       "(13485, 2)"
      ]
     },
     "execution_count": 17,
     "metadata": {},
     "output_type": "execute_result"
    }
   ],
   "source": [
    "pred.shape"
   ]
  },
  {
   "cell_type": "code",
   "execution_count": 18,
   "metadata": {},
   "outputs": [],
   "source": [
    "# pred.to_csv('./output/pred5.csv', header=True, index=False)"
   ]
  },
  {
   "cell_type": "code",
   "execution_count": 10,
   "metadata": {},
   "outputs": [],
   "source": [
    "x_predict = fitted_model.predict(X_test)"
   ]
  },
  {
   "cell_type": "code",
   "execution_count": 13,
   "metadata": {},
   "outputs": [
    {
     "data": {
      "image/png": "[encoded data removed]",
      "text/plain": [
       "<Figure size 432x288 with 1 Axes>"
      ]
     },
     "metadata": {
      "needs_background": "light"
     },
     "output_type": "display_data"
    }
   ],
   "source": [
    "plt.scatter(x_predict, y_test, c=\"green\")\n",
    "plt.plot([y_test.min(), y_test.max()], [y_test.min(), y_test.max()], 'k--', lw=2,)\n",
    "plt.xlabel('Tested')\n",
    "plt.ylabel('Predicted')\n",
    "plt.title(\"ExtraTreesRegressor300 Norm RMSE:0.0313\" )\n",
    "plt.show()"
   ]
  },
  {
   "cell_type": "code",
   "execution_count": null,
   "metadata": {},
   "outputs": [],
   "source": []
  }
 ],
 "metadata": {
  "kernelspec": {
   "display_name": "Python 3",
   "language": "python",
   "name": "python3"
  },
  "language_info": {
   "codemirror_mode": {
    "name": "ipython",
    "version": 3
   },
   "file_extension": ".py",
   "mimetype": "text/x-python",
   "name": "python",
   "nbconvert_exporter": "python",
   "pygments_lexer": "ipython3",
   "version": "3.7.7"
  }
 },
 "nbformat": 4,
 "nbformat_minor": 4
}
